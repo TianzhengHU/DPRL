{
 "cells": [
  {
   "cell_type": "code",
   "execution_count": 1,
   "metadata": {},
   "outputs": [],
   "source": [
    "import numpy as np\n",
    "import copy\n",
    "import random"
   ]
  },
  {
   "cell_type": "code",
   "execution_count": 11,
   "metadata": {},
   "outputs": [],
   "source": [
    "# define Poisson Equation solveing function\n",
    "def solve_Possion_phi(alpha,p1,p2,reward1,reward2):\n",
    "    # V* + φ*e = r + PV*\n",
    "    reward = []\n",
    "    state = len(alpha)\n",
    "    Equation = np.zeros((state,state+1))\n",
    "    for i in range(state): # 3 rows, s states in total \n",
    "        Equation[i,i] = 1 # the row state be 1 in initial\n",
    "        Equation[i,state] = 1 # φ=1\n",
    "        if(alpha[i]==1):\n",
    "            for j in range(state):\n",
    "                Equation[i,j] = Equation[i,j] - p1[i,j]\n",
    "            reward.append(reward1[i])\n",
    "            # print(i,j,P[i,j],A[i,j])\n",
    "        if(alpha[i]==2):\n",
    "            for j in range(state):\n",
    "                Equation[i,j] = Equation[i,j] - p2[i,j]\n",
    "            reward.append(reward2[i])\n",
    "            # print(i,j,P[i,j],A[i,j])           \n",
    "    for i in range(state):# make V(0) = 0\n",
    "        Equation[i,0]=0\n",
    "#     print(\"\\nEquation: \\n\",Equation)\n",
    "    equation = []\n",
    "    for i in range(state):\n",
    "        row = []\n",
    "        for j in range(1,state+1):\n",
    "            row.append(Equation[i,j])\n",
    "        equation.append(row)\n",
    "    value = np.linalg.solve(equation,reward)\n",
    "    return(value[90])\n",
    "\n",
    "def solve_Possion_V(alpha,p1,p2,reward1,reward2):\n",
    "    # V* + φ*e = r + PV*\n",
    "    reward = []\n",
    "    state = len(alpha)\n",
    "    Equation = np.zeros((state,state+1))\n",
    "    for i in range(state): # 3 rows, s states in total \n",
    "        Equation[i,i] = 1 # the row state be 1 in initial\n",
    "        Equation[i,state] = 1 # φ=1\n",
    "        if(alpha[i]==1):\n",
    "            for j in range(state):\n",
    "                Equation[i,j] = Equation[i,j] - p1[i,j]\n",
    "            reward.append(reward1[i])\n",
    "            # print(i,j,P[i,j],A[i,j])\n",
    "        if(alpha[i]==2):\n",
    "            for j in range(state):\n",
    "                Equation[i,j] = Equation[i,j] - p2[i,j]\n",
    "            reward.append(reward2[i])          \n",
    "    for i in range(state):# make V(0) = 0\n",
    "        Equation[i,0]=0\n",
    "    equation = []\n",
    "    for i in range(state):\n",
    "        row = []\n",
    "        for j in range(1,state+1):\n",
    "            row.append(Equation[i,j])\n",
    "        equation.append(row)\n",
    "    value = np.linalg.solve(equation,reward)\n",
    "    V = [0]\n",
    "    for i in range(90):\n",
    "        V.append(value[i])\n",
    "    return(V)"
   ]
  },
  {
   "cell_type": "markdown",
   "metadata": {},
   "source": [
    "\n",
    "## Question d\n",
    "#### Preventive replacement is possible at cost 0.5. What is the average optimal policy?\n",
    "• policy iteration\n",
    "• value iteration"
   ]
  },
  {
   "cell_type": "code",
   "execution_count": 12,
   "metadata": {},
   "outputs": [
    {
     "name": "stdout",
     "output_type": "stream",
     "text": [
      "[[0.1  0.9  0.   ... 0.   0.   0.  ]\n",
      " [0.11 0.   0.89 ... 0.   0.   0.  ]\n",
      " [0.12 0.   0.   ... 0.   0.   0.  ]\n",
      " ...\n",
      " [0.98 0.   0.   ... 0.02 0.   0.  ]\n",
      " [0.99 0.   0.   ... 0.   0.01 0.  ]\n",
      " [1.   0.   0.   ... 0.   0.   0.  ]]\n",
      "1.0\n",
      "[0.1, 0.11, 0.12, 0.13, 0.14, 0.15, 0.16, 0.17, 0.18, 0.19, 0.2, 0.21, 0.22, 0.23, 0.24, 0.25, 0.26, 0.27, 0.28, 0.29, 0.3, 0.31, 0.32, 0.33, 0.34, 0.35, 0.36, 0.37, 0.38, 0.39, 0.4, 0.41, 0.42, 0.43, 0.44, 0.45, 0.46, 0.47, 0.48, 0.49, 0.5, 0.51, 0.52, 0.53, 0.54, 0.55, 0.56, 0.57, 0.58, 0.59, 0.6, 0.61, 0.62, 0.63, 0.64, 0.65, 0.66, 0.67, 0.68, 0.69, 0.7, 0.71, 0.72, 0.73, 0.74, 0.75, 0.76, 0.77, 0.78, 0.79, 0.8, 0.81, 0.82, 0.83, 0.84, 0.85, 0.86, 0.87, 0.88, 0.89, 0.9, 0.91, 0.92, 0.93, 0.94, 0.95, 0.96, 0.97, 0.98, 0.99, 1.0]\n",
      "[[1. 0. 0. ... 0. 0. 0.]\n",
      " [1. 0. 0. ... 0. 0. 0.]\n",
      " [1. 0. 0. ... 0. 0. 0.]\n",
      " ...\n",
      " [1. 0. 0. ... 0. 0. 0.]\n",
      " [1. 0. 0. ... 0. 0. 0.]\n",
      " [1. 0. 0. ... 0. 0. 0.]]\n",
      "1.0\n",
      "[0.5, 0.5, 0.5, 0.5, 0.5, 0.5, 0.5, 0.5, 0.5, 0.5, 0.5, 0.5, 0.5, 0.5, 0.5, 0.5, 0.5, 0.5, 0.5, 0.5, 0.5, 0.5, 0.5, 0.5, 0.5, 0.5, 0.5, 0.5, 0.5, 0.5, 0.5, 0.5, 0.5, 0.5, 0.5, 0.5, 0.5, 0.5, 0.5, 0.5, 0.5, 0.5, 0.5, 0.5, 0.5, 0.5, 0.5, 0.5, 0.5, 0.5, 0.5, 0.5, 0.5, 0.5, 0.5, 0.5, 0.5, 0.5, 0.5, 0.5, 0.5, 0.5, 0.5, 0.5, 0.5, 0.5, 0.5, 0.5, 0.5, 0.5, 0.5, 0.5, 0.5, 0.5, 0.5, 0.5, 0.5, 0.5, 0.5, 0.5, 0.5, 0.5, 0.5, 0.5, 0.5, 0.5, 0.5, 0.5, 0.5, 0.5, 0.5]\n"
     ]
    }
   ],
   "source": [
    "#initial P1, P2, reward1, reward2\n",
    "# action 1: p = linear growth, success + fail = 1, reward = p*fail\n",
    "P1 = np.zeros((91,91+1))  \n",
    "P1[0,0]=0.1\n",
    "P1[0,1]=0.9\n",
    "for i in range(1,91):\n",
    "    P1[i,i+1]=0.9-0.01*i\n",
    "    P1[i,0]=0.1+0.01*i\n",
    "# print(\"transition P1:\\n\",P1,type(P1),len(P1[1,]))\n",
    "reward1 = []\n",
    "for i in range(91):\n",
    "    reward1.append(round(P1[i,0],2))\n",
    "# # action 2: p = 1, reward = 0.5\n",
    "P2 = np.zeros((91,91+1))\n",
    "for i in range(91):\n",
    "    P2[i,0]=1\n",
    "reward2 = []\n",
    "for i in range(91):\n",
    "    reward2.append(0.5)\n",
    "print(P1)\n",
    "print(P1[90,0])\n",
    "print(reward1)\n",
    "print(P2)\n",
    "print(P2[90,0])\n",
    "print(reward2)"
   ]
  },
  {
   "cell_type": "code",
   "execution_count": 15,
   "metadata": {},
   "outputs": [
    {
     "name": "stdout",
     "output_type": "stream",
     "text": [
      "[0.5, 0.2894736842105263, 0.22195483154387263, 0.19013001045251154, 0.17251941566593487, 0.16194911880867, 0.15533331349178886, 0.15112035647143765, 0.14844188296714134, 0.1467728129471102, 0.1457770679715917, 0.14523057041948506, 0.1449797973330045, 0.14491799482409007, 0.14497070705380208, 0.1450864652162317, 0.14523046530673414, 0.1453800608861978, 0.14552142201710117, 0.14564699530394223, 0.14575355397133904, 0.14584070878893937, 0.14590979234304416, 0.1459630493287368, 0.14600307530144738, 0.14603245207724302, 0.14605353302183768, 0.14606833715727302, 0.14607851751484513, 0.14608537607457342, 0.14608990438825936, 0.1460928350855136, 0.1460946945843495, 0.1460958513358114, 0.1460965568506044, 0.14609697871672345, 0.14609722600689817, 0.14609736809147233, 0.14609744809767708, 0.14609749223966323, 0.14609751609762295, 0.14609752872628834, 0.1460975352711743, 0.14609753859113958, 0.1460975402389491, 0.1460975410389059, 0.14609754141860976, 0.14609754159475216, 0.1460975416745761, 0.14609754170989855, 0.1460975417251532, 0.1460975417315795, 0.14609754173421877, 0.1460975417352749, 0.1460975417356864, 0.1460975417358424, 0.14609754173589995, 0.14609754173592057, 0.14609754173592773, 0.14609754173593018, 0.14609754173593095, 0.14609754173593123, 0.14609754173593129, 0.14609754173593129, 0.14609754173593129, 0.14609754173593129, 0.14609754173593129, 0.14609754173593129, 0.14609754173593129, 0.14609754173593129, 0.14609754173593129, 0.14609754173593129, 0.14609754173593129, 0.14609754173593129, 0.14609754173593129, 0.14609754173593129, 0.14609754173593129, 0.14609754173593129, 0.14609754173593129, 0.14609754173593129, 0.14609754173593129, 0.14609754173593129, 0.14609754173593129, 0.14609754173593129, 0.14609754173593129, 0.14609754173593129, 0.14609754173593129, 0.14609754173593129, 0.14609754173593129, 0.14609754173593129, 0.14609754173593129]\n",
      "\n",
      "expected min phi: 0.14491799482409007 ,Preventive replacement at: 13\n"
     ]
    }
   ],
   "source": [
    "# Excepted Policy iteration \n",
    "phi_list = []\n",
    "for i in range(91):\n",
    "    alpha = [1]*91 # at beginning, all action 1\n",
    "    alpha[i]=2\n",
    "#     print(i,solve_Possion(alpha,P1,P2,reward1,reward2))\n",
    "    phi_list.append(solve_Possion_phi(alpha,P1,P2,reward1,reward2))\n",
    "print(phi_list)    \n",
    "print(\"\\nexpected min phi:\",min(phi_list),\",Preventive replacement at:\",np.argmin(phi_list))\n",
    "\n",
    "# minimize φ, and take Preventive replacement at 13 is optimal policy"
   ]
  },
  {
   "cell_type": "markdown",
   "metadata": {},
   "source": [
    "### Policy iteration"
   ]
  },
  {
   "cell_type": "code",
   "execution_count": 14,
   "metadata": {},
   "outputs": [
    {
     "name": "stdout",
     "output_type": "stream",
     "text": [
      "2 True\n",
      "optimal alpha is: [1, 1, 1, 1, 1, 1, 1, 1, 1, 1, 1, 1, 1, 2, 2, 2, 2, 2, 2, 2, 2, 2, 2, 2, 2, 2, 2, 2, 2, 2, 2, 2, 2, 2, 2, 2, 2, 2, 2, 2, 2, 2, 2, 2, 2, 2, 2, 2, 2, 2, 2, 2, 2, 2, 2, 2, 2, 2, 2, 2, 2, 2, 2, 2, 2, 2, 2, 2, 2, 2, 2, 2, 2, 2, 2, 2, 2, 2, 2, 2, 2, 2, 2, 2, 2, 2, 2, 2, 2, 2, 2] 91\n"
     ]
    }
   ],
   "source": [
    "# Policy iteration\n",
    "# V + φ = rα + PαV\n",
    "# φ = rα + PαV - V\n",
    "alpha = [1]*91\n",
    "new_alpha = [0]*91\n",
    "for t in range(100):\n",
    "#     print(\"alpha:\",alpha)\n",
    "    Vt = solve_Possion_V(alpha,P1,P2,reward1,reward2)\n",
    "#     print(Vt)\n",
    "    for i in range(91):\n",
    "        v1 = reward1[i]\n",
    "        v2 = reward2[i]\n",
    "        for j in range(91):\n",
    "            v1 = v1 + P1[i,j]*Vt[j]\n",
    "            v2 = v2 + P2[i,j]*Vt[j]\n",
    "        new_alpha[i]=np.argmax([-v1,-v2])+1\n",
    "    if(alpha==new_alpha):\n",
    "        print(t,alpha==new_alpha)\n",
    "        break\n",
    "    alpha = copy.deepcopy(new_alpha)\n",
    "print(\"optimal alpha is:\",alpha,len(alpha))"
   ]
  },
  {
   "cell_type": "markdown",
   "metadata": {},
   "source": [
    "### Value iteration"
   ]
  },
  {
   "cell_type": "code",
   "execution_count": 10,
   "metadata": {},
   "outputs": [
    {
     "name": "stdout",
     "output_type": "stream",
     "text": [
      "iteration times: 24 \n",
      "max(V_t+1 - Vt)-min(V_t+1 - Vt): 0.0008362153063474764\n",
      "[0.14504668763113804, 0.14507172234834975, 0.1450700656678121, 0.14504967858013273, 0.14501685509288365, 0.14497655016050093, 0.1449326422484174, 0.14423550704200228, 0.14435631779337932, 0.1445658524868776, 0.14473607797864974, 0.14478273176831946, 0.14489070983770969, 0.14498492329738522, 0.14498492329738522, 0.14498492329738522, 0.14498492329738522, 0.14498492329738522, 0.14498492329738522, 0.14498492329738522, 0.14498492329738522, 0.14498492329738522, 0.14498492329738522, 0.14498492329738522, 0.14498492329738522, 0.14498492329738522, 0.14498492329738522, 0.14498492329738522, 0.14498492329738522, 0.14498492329738522, 0.14498492329738522, 0.14498492329738522, 0.14498492329738522, 0.14498492329738522, 0.14498492329738522, 0.14498492329738522, 0.14498492329738522, 0.14498492329738522, 0.14498492329738522, 0.14498492329738522, 0.14498492329738522, 0.14498492329738522, 0.14498492329738522, 0.14498492329738522, 0.14498492329738522, 0.14498492329738522, 0.14498492329738522, 0.14498492329738522, 0.14498492329738522, 0.14498492329738522, 0.14498492329738522, 0.14498492329738522, 0.14498492329738522, 0.14498492329738522, 0.14498492329738522, 0.14498492329738522, 0.14498492329738522, 0.14498492329738522, 0.14498492329738522, 0.14498492329738522, 0.14498492329738522, 0.14498492329738522, 0.14498492329738522, 0.14498492329738522, 0.14498492329738522, 0.14498492329738522, 0.14498492329738522, 0.14498492329738522, 0.14498492329738522, 0.14498492329738522, 0.14498492329738522, 0.14498492329738522, 0.14498492329738522, 0.14498492329738522, 0.14498492329738522, 0.14498492329738522, 0.14498492329738522, 0.14498492329738522, 0.14498492329738522, 0.14498492329738522, 0.14498492329738522, 0.14498492329738522, 0.14498492329738522, 0.14498492329738522, 0.14498492329738522, 0.14498492329738522, 0.14498492329738522, 0.14498492329738522, 0.14498492329738522, 0.14498492329738522, 0.14498492329738522]\n"
     ]
    }
   ],
   "source": [
    "# Value iteration\n",
    "Vt = [0]*91\n",
    "Vt1 = [0]*91\n",
    "phi_list = [0]*91\n",
    "for t in range(10000):\n",
    "    for i in range(91):\n",
    "        v1 = reward1[i]\n",
    "        v2 = reward2[i]\n",
    "        for j in range(91):\n",
    "            v1 = v1 + P1[i,j]*Vt[j]\n",
    "            v2 = v2 + P2[i,j]*Vt[j]\n",
    "        Vt1[i]=min(v1,v2)\n",
    "        phi_list[i]=Vt1[i]-Vt[i]\n",
    "    Vt=copy.deepcopy(Vt1)\n",
    "    if(max(phi_list)-min(phi_list)<0.001):\n",
    "        print(\"iteration times:\",t,\"\\nmax(V_t+1 - Vt)-min(V_t+1 - Vt):\",max(phi_list)-min(phi_list))\n",
    "        print(phi_list)\n",
    "        break"
   ]
  }
 ],
 "metadata": {
  "kernelspec": {
   "display_name": "Python 3",
   "language": "python",
   "name": "python3"
  },
  "language_info": {
   "codemirror_mode": {
    "name": "ipython",
    "version": 3
   },
   "file_extension": ".py",
   "mimetype": "text/x-python",
   "name": "python",
   "nbconvert_exporter": "python",
   "pygments_lexer": "ipython3",
   "version": "3.8.5"
  }
 },
 "nbformat": 4,
 "nbformat_minor": 4
}
