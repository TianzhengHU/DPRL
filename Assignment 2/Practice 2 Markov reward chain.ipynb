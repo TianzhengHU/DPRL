{
 "cells": [
  {
   "cell_type": "code",
   "execution_count": 97,
   "metadata": {},
   "outputs": [],
   "source": [
    "import numpy as np\n",
    "import copy\n",
    "import random"
   ]
  },
  {
   "cell_type": "markdown",
   "metadata": {},
   "source": [
    "## Queation a\n",
    "\n",
    "### Compute the stationary distribution "
   ]
  },
  {
   "cell_type": "code",
   "execution_count": 98,
   "metadata": {},
   "outputs": [
    {
     "name": "stdout",
     "output_type": "stream",
     "text": [
      "transition P:\n",
      " [[0.1  0.9  0.   ... 0.   0.   0.  ]\n",
      " [0.11 0.   0.89 ... 0.   0.   0.  ]\n",
      " [0.12 0.   0.   ... 0.   0.   0.  ]\n",
      " ...\n",
      " [0.99 0.   0.   ... 0.   0.01 0.  ]\n",
      " [1.   0.   0.   ... 0.   0.   0.  ]\n",
      " [0.   0.   0.   ... 0.   0.   0.  ]] <class 'numpy.ndarray'> 92\n",
      "0.89\n",
      "pi0: [1, 0, 0, 0, 0, 0, 0, 0, 0, 0, 0, 0, 0, 0, 0, 0, 0, 0, 0, 0, 0, 0, 0, 0, 0, 0, 0, 0, 0, 0, 0, 0, 0, 0, 0, 0, 0, 0, 0, 0, 0, 0, 0, 0, 0, 0, 0, 0, 0, 0, 0, 0, 0, 0, 0, 0, 0, 0, 0, 0, 0, 0, 0, 0, 0, 0, 0, 0, 0, 0, 0, 0, 0, 0, 0, 0, 0, 0, 0, 0, 0, 0, 0, 0, 0, 0, 0, 0, 0, 0, 0, 0] <class 'list'> 92\n",
      "pi1: [0, 0, 0, 0, 0, 0, 0, 0, 0, 0, 0, 0, 0, 0, 0, 0, 0, 0, 0, 0, 0, 0, 0, 0, 0, 0, 0, 0, 0, 0, 0, 0, 0, 0, 0, 0, 0, 0, 0, 0, 0, 0, 0, 0, 0, 0, 0, 0, 0, 0, 0, 0, 0, 0, 0, 0, 0, 0, 0, 0, 0, 0, 0, 0, 0, 0, 0, 0, 0, 0, 0, 0, 0, 0, 0, 0, 0, 0, 0, 0, 0, 0, 0, 0, 0, 0, 0, 0, 0, 0, 0, 0] <class 'list'>\n"
     ]
    }
   ],
   "source": [
    "# Initialization\n",
    "test_number=91\n",
    "T = 1000\n",
    "#initial Pi\n",
    "pi0=[]\n",
    "pi0.append(1)\n",
    "for i in range(test_number):\n",
    "    pi0.append(0)\n",
    "pi1=[]\n",
    "for i in range(test_number+1):\n",
    "    pi1.append(0)\n",
    "\n",
    "#initial P\n",
    "P=np.zeros((test_number+1,test_number+1))\n",
    "# P[0,]=-1\n",
    "# for i in range(test_number+1):\n",
    "#     P[i,0]=-1\n",
    "    \n",
    "P[0,0]=0.1\n",
    "P[0,1]=0.9\n",
    "for i in range(1,test_number):\n",
    "    P[i,i+1]=0.9-0.01*i\n",
    "    P[i,0]=0.1+0.01*i\n",
    "\n",
    "print(\"transition P:\\n\",P,type(P),len(P[1,]))\n",
    "print(P[1,2])\n",
    "print(\"pi0:\",pi0,type(pi0),len(pi0))\n",
    "print(\"pi1:\",pi1,type(pi1))"
   ]
  },
  {
   "cell_type": "code",
   "execution_count": 99,
   "metadata": {},
   "outputs": [
    {
     "name": "stdout",
     "output_type": "stream",
     "text": [
      "stationary distribution:\n",
      "[0.14609754173594203, 0.1314877875623478, 0.11702413093048955, 0.10298123521883078, 0.08959367464038277, 0.07705056019072919, 0.06549297616211981, 0.05501409997618065, 0.045661702980229944, 0.037442596443788556, 0.030328503119468723, 0.02426280249557498, 0.019167613971504235, 0.014950738897773303, 0.01151206895128544, 0.008749172402976934, 0.0065618793022327, 0.004855790683652198, 0.0035447271990661023, 0.0025522035833275935, 0.0018120645441625912, 0.0012684451809138139, 0.0008752271748305317, 0.0005951544788847616, 0.0003987535008527903, 0.00026317731056284163, 0.00017106525186584706, 0.00010948176119414212, 6.897350955230953e-05, 4.276357592243191e-05, 2.6085781312683468e-05, 1.5651468787610076e-05, 9.234366584689941e-06, 5.3559326191201665e-06, 3.0528815928984954e-06, 1.7096136920231577e-06, 9.402875306127369e-07, 5.07755266530878e-07, 2.6911029126136536e-07, 1.3993735145591e-07, 7.13680492425141e-08, 3.568402462125705e-08, 1.7485172064415952e-08, 8.392882590919658e-09, 3.944654817732239e-09, 1.814541216156829e-09, 8.165435472705731e-10, 3.5927916079905213e-10, 1.544900391435924e-10, 6.488581644030882e-11, 2.660318474052662e-11, 1.0641273896210642e-11, 4.150096819522151e-12, 1.5770367914184172e-12, 5.83503612824814e-13, 2.1006130061693306e-13, 7.352145521592656e-14, 2.499729477341503e-14, 8.249107275226959e-15, 2.639714328072627e-15, 8.183114417025145e-16, 2.454934325107544e-16, 7.119309542811878e-17, 1.9934066719873257e-17, 5.3821980143657795e-18, 1.3993714837351026e-18, 3.4984287093377566e-19, 8.396228902410613e-20, 1.9311326475544408e-20, 4.248491824619769e-21, 8.92183283170151e-22, 1.7843665663403019e-22, 3.390296476046575e-23, 6.1025336568838364e-24, 1.0374307216702524e-24, 1.659889154672403e-25, 2.4898337320086048e-26, 3.485767224812047e-27, 4.531497392255661e-28, 5.437796870706794e-29, 5.9815765577774695e-30, 5.981576557777468e-31, 5.38341890199972e-32, 4.306735121599773e-33, 3.0147145851198392e-34, 1.8088287510719038e-35, 9.044143755359526e-37, 3.617657502143813e-38, 1.0852972506431449e-39, 2.1705945012862916e-41, 2.1705945012862935e-43, 0.0]\n",
      "----\n"
     ]
    }
   ],
   "source": [
    "# Initialization\n",
    "test_number=91\n",
    "T = 1000\n",
    "#initial Pi\n",
    "pi0=[]\n",
    "pi0.append(1)\n",
    "for i in range(test_number):\n",
    "    pi0.append(0)\n",
    "pi1=[]\n",
    "for i in range(test_number+1):\n",
    "    pi1.append(0)\n",
    "\n",
    "#initial P\n",
    "P=np.zeros((test_number+1,test_number+1))\n",
    "P[0,0]=0.1\n",
    "P[0,1]=0.9\n",
    "for i in range(1,test_number):\n",
    "    P[i,i+1]=0.9-0.01*i\n",
    "    P[i,0]=0.1+0.01*i\n",
    "\n",
    "for t in range(T):\n",
    "    for i in range(len(pi0)):\n",
    "        sum = 0\n",
    "        for j in range(len(P[0,])):\n",
    "            sum = sum + P[j,i]*pi0[j] \n",
    "        pi1[i] = sum\n",
    "#         pi1[i] = P[0+3*i]*pi0[1-1] + P[1+3*i]*pi0[2-1] +P[2+3*i]*pi0[3-1]\n",
    "#     pi1=((1/2)*pi0[3-1] , pi0[1-1]+(1/2)*pi0[3-1] , pi0[2-1])\n",
    "    pi0 = copy.deepcopy(pi1)\n",
    "print(\"stationary distribution:\")\n",
    "print(pi1)\n",
    "print(\"----\")"
   ]
  },
  {
   "cell_type": "code",
   "execution_count": 100,
   "metadata": {},
   "outputs": [
    {
     "name": "stdout",
     "output_type": "stream",
     "text": [
      "1.0000000000000735\n"
     ]
    }
   ],
   "source": [
    "# Test correct\n",
    "sum = 0\n",
    "for i in range(len(pi1)):\n",
    "    sum = sum+pi1[i]\n",
    "print(sum)"
   ]
  },
  {
   "cell_type": "markdown",
   "metadata": {},
   "source": [
    "### use this to find the long-run average replacement costs"
   ]
  },
  {
   "cell_type": "code",
   "execution_count": 101,
   "metadata": {},
   "outputs": [
    {
     "data": {
      "text/plain": [
       "0.14609754173594203"
      ]
     },
     "execution_count": 101,
     "metadata": {},
     "output_type": "execute_result"
    }
   ],
   "source": [
    "#  long-term average reward φ*  \n",
    "#  φ* = max ∑x,a π*(x,a)r(x,a) excepted\n",
    "reward = []\n",
    "Fi = 0\n",
    "for i in range(len(pi1)):\n",
    "    reward.append(0.1+0.01*i)\n",
    "# print(reward)\n",
    "for i in range(len(pi1)):\n",
    "    Fi = Fi+pi1[i]*reward[i]\n",
    "Fi"
   ]
  },
  {
   "cell_type": "markdown",
   "metadata": {},
   "source": [
    "## Question b\n",
    "\n",
    "### Simulate the system for a long period and verify that you get (approximately) the same answer"
   ]
  },
  {
   "cell_type": "code",
   "execution_count": null,
   "metadata": {},
   "outputs": [],
   "source": [
    "state = 0\n",
    "cost = 0\n",
    "for t in range(10):\n",
    "    "
   ]
  },
  {
   "cell_type": "markdown",
   "metadata": {},
   "source": [
    "## Question c\n",
    "\n",
    "### Solve the average-cost Poisson equation"
   ]
  },
  {
   "cell_type": "code",
   "execution_count": 102,
   "metadata": {},
   "outputs": [
    {
     "data": {
      "text/plain": [
       "array([[ 0.9 , -0.9 ,  0.  , ...,  0.  ,  0.  ,  1.  ],\n",
       "       [-0.11,  1.  , -0.89, ...,  0.  ,  0.  ,  1.  ],\n",
       "       [-0.12,  0.  ,  1.  , ...,  0.  ,  0.  ,  1.  ],\n",
       "       ...,\n",
       "       [-0.98,  0.  ,  0.  , ..., -0.02,  0.  ,  1.  ],\n",
       "       [-0.99,  0.  ,  0.  , ...,  1.  , -0.01,  1.  ],\n",
       "       [-1.  ,  0.  ,  0.  , ...,  0.  ,  1.  ,  1.  ]])"
      ]
     },
     "execution_count": 102,
     "metadata": {},
     "output_type": "execute_result"
    }
   ],
   "source": [
    "# Possion EQ \n",
    "# V* + φ*e = r + PV*\n",
    "# print(reward)\n",
    "state = 91\n",
    "A = np.zeros((state,state+1))\n",
    "for i in range(state): # 3 rows, s states in total \n",
    "    A[i,i] = 1 # the row state be 1 in initial\n",
    "    A[i,state] = 1 # φ=1\n",
    "    for j in range(state):\n",
    "        A[i,j] = A[i,j] - P[i,j]\n",
    "#         print(i,j,P[i,j],A[i,j])\n",
    "A"
   ]
  },
  {
   "cell_type": "code",
   "execution_count": 140,
   "metadata": {},
   "outputs": [],
   "source": [
    "for i in range(state):# make V(0) = 0\n",
    "    A[i,0]=0\n",
    "# print(type(A))\n",
    "# print(A)\n",
    "equation = []\n",
    "for i in range(state):\n",
    "    row = []\n",
    "    for j in range(1,state+1):\n",
    "        row.append(A[i,j])\n",
    "    equation.append(row)\n",
    "# print(type(equation))\n",
    "# print(len(equation))\n",
    "# print(len(equation[0]))"
   ]
  },
  {
   "cell_type": "code",
   "execution_count": 104,
   "metadata": {},
   "outputs": [
    {
     "name": "stdout",
     "output_type": "stream",
     "text": [
      "[0.05121949 0.09810903 0.14114383 0.1807372  0.2172497  0.25099676\n",
      " 0.28225512 0.31126827 0.33825099 0.36339325 0.38686349 0.40881143\n",
      " 0.42937048 0.44865976 0.46678593 0.48384463 0.49992185 0.51509506\n",
      " 0.52943416 0.5430024  0.55585706 0.56805015 0.57962896 0.59063657\n",
      " 0.60111229 0.61109205 0.62060874 0.6296925  0.63837104 0.64666981\n",
      " 0.65461225 0.66221999 0.66951298 0.67650969 0.6832272  0.68968134\n",
      " 0.69588683 0.7018573  0.70760546 0.71314314 0.71848136 0.72363041\n",
      " 0.72859991 0.73339883 0.73803559 0.74251806 0.74685364 0.75104926\n",
      " 0.75511144 0.7590463  0.7628596  0.76655677 0.77014293 0.77362291\n",
      " 0.77700125 0.78028226 0.78347001 0.78656835 0.78958092 0.79251117\n",
      " 0.79536237 0.79813762 0.80083988 0.80347193 0.80603644 0.80853593\n",
      " 0.81097281 0.81334937 0.81566779 0.81793014 0.82013841 0.82229449\n",
      " 0.82440018 0.82645721 0.82846723 0.8304318  0.83235243 0.83423057\n",
      " 0.83606759 0.83786481 0.8396235  0.84134486 0.84303008 0.84468024\n",
      " 0.84629644 0.8478797  0.849431   0.85095129 0.85244148 0.85390246\n",
      " 0.14609754]\n"
     ]
    }
   ],
   "source": [
    "value = np.linalg.solve(equation,reward[0:state])\n",
    "print(value)\n",
    "# V(0)=0, the last value 0.14609754 is φ"
   ]
  },
  {
   "cell_type": "code",
   "execution_count": 105,
   "metadata": {},
   "outputs": [],
   "source": [
    "def solve_Possion_phi(alpha,p1,p2,reward1,reward2):\n",
    "    # V* + φ*e = r + PV*\n",
    "    reward = []\n",
    "    state = len(alpha)\n",
    "    Equation = np.zeros((state,state+1))\n",
    "    for i in range(state): # 3 rows, s states in total \n",
    "        Equation[i,i] = 1 # the row state be 1 in initial\n",
    "        Equation[i,state] = 1 # φ=1\n",
    "        if(alpha[i]==1):\n",
    "            for j in range(state):\n",
    "                Equation[i,j] = Equation[i,j] - p1[i,j]\n",
    "            reward.append(reward1[i])\n",
    "            # print(i,j,P[i,j],A[i,j])\n",
    "        if(alpha[i]==2):\n",
    "            for j in range(state):\n",
    "                Equation[i,j] = Equation[i,j] - p2[i,j]\n",
    "            reward.append(reward2[i])\n",
    "            # print(i,j,P[i,j],A[i,j])           \n",
    "    for i in range(state):# make V(0) = 0\n",
    "        Equation[i,0]=0\n",
    "#     print(\"\\nEquation: \\n\",Equation)\n",
    "    equation = []\n",
    "    for i in range(state):\n",
    "        row = []\n",
    "        for j in range(1,state+1):\n",
    "            row.append(Equation[i,j])\n",
    "        equation.append(row)\n",
    "#     print(\"equation:\",equation)\n",
    "#     print(\"\\nreward:\\n\",reward)\n",
    "    value = np.linalg.solve(equation,reward)\n",
    "#     print(\"\\nvalue:\\n\",value)\n",
    "#     print(\"\\nPhi:\",value[90])\n",
    "    return(value[90])"
   ]
  },
  {
   "cell_type": "code",
   "execution_count": 106,
   "metadata": {},
   "outputs": [],
   "source": [
    "def solve_Possion_V(alpha,p1,p2,reward1,reward2):\n",
    "#     print(alpha)\n",
    "#     print(P1)\n",
    "#     print(P2)\n",
    "    # V* + φ*e = r + PV*\n",
    "    reward = []\n",
    "    state = len(alpha)\n",
    "    Equation = np.zeros((state,state+1))\n",
    "    for i in range(state): # 3 rows, s states in total \n",
    "        Equation[i,i] = 1 # the row state be 1 in initial\n",
    "        Equation[i,state] = 1 # φ=1\n",
    "        if(alpha[i]==1):\n",
    "            for j in range(state):\n",
    "                Equation[i,j] = Equation[i,j] - p1[i,j]\n",
    "            reward.append(reward1[i])\n",
    "            # print(i,j,P[i,j],A[i,j])\n",
    "        if(alpha[i]==2):\n",
    "            for j in range(state):\n",
    "                Equation[i,j] = Equation[i,j] - p2[i,j]\n",
    "            reward.append(reward2[i])\n",
    "            # print(i,j,P[i,j],A[i,j])           \n",
    "    for i in range(state):# make V(0) = 0\n",
    "        Equation[i,0]=0\n",
    "#     print(\"\\nEquation: \\n\",Equation)\n",
    "    equation = []\n",
    "    for i in range(state):\n",
    "        row = []\n",
    "        for j in range(1,state+1):\n",
    "            row.append(Equation[i,j])\n",
    "        equation.append(row)\n",
    "#     print(\"equation:\",equation)\n",
    "#     print(\"\\nreward:\\n\",reward)\n",
    "    value = np.linalg.solve(equation,reward)\n",
    "#     print(\"\\nvalue:\\n\",value)\n",
    "#     print(\"\\nPhi:\",value[90])\n",
    "    V = [0]\n",
    "    for i in range(90):\n",
    "        V.append(value[i])\n",
    "    return(V)"
   ]
  },
  {
   "cell_type": "markdown",
   "metadata": {},
   "source": [
    "\n",
    "## Question d\n",
    "#### Preventive replacement is possible at cost 0.5. What is the average optimal policy?\n",
    "• policy iteration\n",
    "• value iteration"
   ]
  },
  {
   "cell_type": "code",
   "execution_count": 107,
   "metadata": {},
   "outputs": [
    {
     "name": "stdout",
     "output_type": "stream",
     "text": [
      "[[0.1  0.9  0.   ... 0.   0.   0.  ]\n",
      " [0.11 0.   0.89 ... 0.   0.   0.  ]\n",
      " [0.12 0.   0.   ... 0.   0.   0.  ]\n",
      " ...\n",
      " [0.98 0.   0.   ... 0.02 0.   0.  ]\n",
      " [0.99 0.   0.   ... 0.   0.01 0.  ]\n",
      " [1.   0.   0.   ... 0.   0.   0.  ]]\n",
      "1.0\n",
      "[0.1, 0.11, 0.12, 0.13, 0.14, 0.15, 0.16, 0.17, 0.18, 0.19, 0.2, 0.21, 0.22, 0.23, 0.24, 0.25, 0.26, 0.27, 0.28, 0.29, 0.3, 0.31, 0.32, 0.33, 0.34, 0.35, 0.36, 0.37, 0.38, 0.39, 0.4, 0.41, 0.42, 0.43, 0.44, 0.45, 0.46, 0.47, 0.48, 0.49, 0.5, 0.51, 0.52, 0.53, 0.54, 0.55, 0.56, 0.57, 0.58, 0.59, 0.6, 0.61, 0.62, 0.63, 0.64, 0.65, 0.66, 0.67, 0.68, 0.69, 0.7, 0.71, 0.72, 0.73, 0.74, 0.75, 0.76, 0.77, 0.78, 0.79, 0.8, 0.81, 0.82, 0.83, 0.84, 0.85, 0.86, 0.87, 0.88, 0.89, 0.9, 0.91, 0.92, 0.93, 0.94, 0.95, 0.96, 0.97, 0.98, 0.99, 1.0]\n",
      "[[1. 0. 0. ... 0. 0. 0.]\n",
      " [1. 0. 0. ... 0. 0. 0.]\n",
      " [1. 0. 0. ... 0. 0. 0.]\n",
      " ...\n",
      " [1. 0. 0. ... 0. 0. 0.]\n",
      " [1. 0. 0. ... 0. 0. 0.]\n",
      " [1. 0. 0. ... 0. 0. 0.]]\n",
      "1.0\n",
      "[0.5, 0.5, 0.5, 0.5, 0.5, 0.5, 0.5, 0.5, 0.5, 0.5, 0.5, 0.5, 0.5, 0.5, 0.5, 0.5, 0.5, 0.5, 0.5, 0.5, 0.5, 0.5, 0.5, 0.5, 0.5, 0.5, 0.5, 0.5, 0.5, 0.5, 0.5, 0.5, 0.5, 0.5, 0.5, 0.5, 0.5, 0.5, 0.5, 0.5, 0.5, 0.5, 0.5, 0.5, 0.5, 0.5, 0.5, 0.5, 0.5, 0.5, 0.5, 0.5, 0.5, 0.5, 0.5, 0.5, 0.5, 0.5, 0.5, 0.5, 0.5, 0.5, 0.5, 0.5, 0.5, 0.5, 0.5, 0.5, 0.5, 0.5, 0.5, 0.5, 0.5, 0.5, 0.5, 0.5, 0.5, 0.5, 0.5, 0.5, 0.5, 0.5, 0.5, 0.5, 0.5, 0.5, 0.5, 0.5, 0.5, 0.5, 0.5]\n"
     ]
    }
   ],
   "source": [
    "#initial P1, P2, reward1, reward2\n",
    "# action 1: p = linear growth, success + fail = 1, reward = p*fail\n",
    "P1 = np.zeros((91,91+1))  \n",
    "P1[0,0]=0.1\n",
    "P1[0,1]=0.9\n",
    "for i in range(1,91):\n",
    "    P1[i,i+1]=0.9-0.01*i\n",
    "    P1[i,0]=0.1+0.01*i\n",
    "# print(\"transition P1:\\n\",P1,type(P1),len(P1[1,]))\n",
    "reward1 = []\n",
    "for i in range(91):\n",
    "    reward1.append(round(P1[i,0],2))\n",
    "# # action 2: p = 1, reward = 0.5\n",
    "P2 = np.zeros((91,91+1))\n",
    "for i in range(91):\n",
    "    P2[i,0]=1\n",
    "reward2 = []\n",
    "for i in range(91):\n",
    "    reward2.append(0.5)\n",
    "print(P1)\n",
    "print(P1[90,0])\n",
    "print(reward1)\n",
    "print(P2)\n",
    "print(P2[90,0])\n",
    "print(reward2)"
   ]
  },
  {
   "cell_type": "code",
   "execution_count": 109,
   "metadata": {},
   "outputs": [
    {
     "name": "stdout",
     "output_type": "stream",
     "text": [
      "[0.5, 0.2894736842105263, 0.22195483154387263, 0.19013001045251154, 0.17251941566593487, 0.16194911880867, 0.15533331349178886, 0.15112035647143765, 0.14844188296714134, 0.1467728129471102, 0.1457770679715917, 0.14523057041948506, 0.1449797973330045, 0.14491799482409007, 0.14497070705380208, 0.1450864652162317, 0.14523046530673414, 0.1453800608861978, 0.14552142201710117, 0.14564699530394223, 0.14575355397133904, 0.14584070878893937, 0.14590979234304416, 0.1459630493287368, 0.14600307530144738, 0.14603245207724302, 0.14605353302183768, 0.14606833715727302, 0.14607851751484513, 0.14608537607457342, 0.14608990438825936, 0.1460928350855136, 0.1460946945843495, 0.1460958513358114, 0.1460965568506044, 0.14609697871672345, 0.14609722600689817, 0.14609736809147233, 0.14609744809767708, 0.14609749223966323, 0.14609751609762295, 0.14609752872628834, 0.1460975352711743, 0.14609753859113958, 0.1460975402389491, 0.1460975410389059, 0.14609754141860976, 0.14609754159475216, 0.1460975416745761, 0.14609754170989855, 0.1460975417251532, 0.1460975417315795, 0.14609754173421877, 0.1460975417352749, 0.1460975417356864, 0.1460975417358424, 0.14609754173589995, 0.14609754173592057, 0.14609754173592773, 0.14609754173593018, 0.14609754173593095, 0.14609754173593123, 0.14609754173593129, 0.14609754173593129, 0.14609754173593129, 0.14609754173593129, 0.14609754173593129, 0.14609754173593129, 0.14609754173593129, 0.14609754173593129, 0.14609754173593129, 0.14609754173593129, 0.14609754173593129, 0.14609754173593129, 0.14609754173593129, 0.14609754173593129, 0.14609754173593129, 0.14609754173593129, 0.14609754173593129, 0.14609754173593129, 0.14609754173593129, 0.14609754173593129, 0.14609754173593129, 0.14609754173593129, 0.14609754173593129, 0.14609754173593129, 0.14609754173593129, 0.14609754173593129, 0.14609754173593129, 0.14609754173593129, 0.14609754173593129]\n",
      "\n",
      "min phi: 0.14491799482409007 ,Preventive replacement at: 13\n"
     ]
    }
   ],
   "source": [
    "# Excepted Policy iteration \n",
    "phi_list = []\n",
    "for i in range(91):\n",
    "    alpha = [1]*91 # at beginning, all action 1\n",
    "    alpha[i]=2\n",
    "#     print(i,solve_Possion(alpha,P1,P2,reward1,reward2))\n",
    "    phi_list.append(solve_Possion_phi(alpha,P1,P2,reward1,reward2))\n",
    "print(phi_list)    \n",
    "print(\"\\nmin phi:\",min(phi_list),\",Preventive replacement at:\",np.argmin(phi_list))\n",
    "\n",
    "# minimize φ, and take Preventive replacement at 13 is optimal policy"
   ]
  },
  {
   "cell_type": "code",
   "execution_count": 165,
   "metadata": {},
   "outputs": [
    {
     "name": "stdout",
     "output_type": "stream",
     "text": [
      "2 True\n",
      "optimal alpha is: [1, 1, 1, 1, 1, 1, 1, 1, 1, 1, 1, 1, 1, 2, 2, 2, 2, 2, 2, 2, 2, 2, 2, 2, 2, 2, 2, 2, 2, 2, 2, 2, 2, 2, 2, 2, 2, 2, 2, 2, 2, 2, 2, 2, 2, 2, 2, 2, 2, 2, 2, 2, 2, 2, 2, 2, 2, 2, 2, 2, 2, 2, 2, 2, 2, 2, 2, 2, 2, 2, 2, 2, 2, 2, 2, 2, 2, 2, 2, 2, 2, 2, 2, 2, 2, 2, 2, 2, 2, 2, 2] 91\n"
     ]
    }
   ],
   "source": [
    "# Policy iteration\n",
    "# V + φ = rα + PαV\n",
    "# φ = rα + PαV - V\n",
    "alpha = [1]*91\n",
    "new_alpha = [0]*91\n",
    "for t in range(100):\n",
    "#     print(\"alpha:\",alpha)\n",
    "    Vt = solve_Possion_V(alpha,P1,P2,reward1,reward2)\n",
    "#     print(Vt)\n",
    "    for i in range(91):\n",
    "        v1 = reward1[i]\n",
    "        v2 = reward2[i]\n",
    "        for j in range(91):\n",
    "            v1 = v1 + P1[i,j]*Vt[j]\n",
    "            v2 = v2 + P2[i,j]*Vt[j]\n",
    "        new_alpha[i]=np.argmax([-v1,-v2])+1\n",
    "    if(alpha==new_alpha):\n",
    "        print(t,alpha==new_alpha)\n",
    "        break\n",
    "    alpha = copy.deepcopy(new_alpha)\n",
    "print(\"optimal alpha is:\",alpha,len(alpha))"
   ]
  },
  {
   "cell_type": "code",
   "execution_count": 169,
   "metadata": {},
   "outputs": [
    {
     "name": "stdout",
     "output_type": "stream",
     "text": [
      "[0.14504668763113804, 0.14507172234834975, 0.1450700656678121, 0.14504967858013273, 0.14501685509288365, 0.14497655016050093, 0.1449326422484174, 0.14423550704200228, 0.14435631779337932, 0.1445658524868776, 0.14473607797864974, 0.14478273176831946, 0.14489070983770969, 0.14498492329738522, 0.14498492329738522, 0.14498492329738522, 0.14498492329738522, 0.14498492329738522, 0.14498492329738522, 0.14498492329738522, 0.14498492329738522, 0.14498492329738522, 0.14498492329738522, 0.14498492329738522, 0.14498492329738522, 0.14498492329738522, 0.14498492329738522, 0.14498492329738522, 0.14498492329738522, 0.14498492329738522, 0.14498492329738522, 0.14498492329738522, 0.14498492329738522, 0.14498492329738522, 0.14498492329738522, 0.14498492329738522, 0.14498492329738522, 0.14498492329738522, 0.14498492329738522, 0.14498492329738522, 0.14498492329738522, 0.14498492329738522, 0.14498492329738522, 0.14498492329738522, 0.14498492329738522, 0.14498492329738522, 0.14498492329738522, 0.14498492329738522, 0.14498492329738522, 0.14498492329738522, 0.14498492329738522, 0.14498492329738522, 0.14498492329738522, 0.14498492329738522, 0.14498492329738522, 0.14498492329738522, 0.14498492329738522, 0.14498492329738522, 0.14498492329738522, 0.14498492329738522, 0.14498492329738522, 0.14498492329738522, 0.14498492329738522, 0.14498492329738522, 0.14498492329738522, 0.14498492329738522, 0.14498492329738522, 0.14498492329738522, 0.14498492329738522, 0.14498492329738522, 0.14498492329738522, 0.14498492329738522, 0.14498492329738522, 0.14498492329738522, 0.14498492329738522, 0.14498492329738522, 0.14498492329738522, 0.14498492329738522, 0.14498492329738522, 0.14498492329738522, 0.14498492329738522, 0.14498492329738522, 0.14498492329738522, 0.14498492329738522, 0.14498492329738522, 0.14498492329738522, 0.14498492329738522, 0.14498492329738522, 0.14498492329738522, 0.14498492329738522, 0.14498492329738522]\n"
     ]
    }
   ],
   "source": [
    "# Value iteration\n",
    "Vt = [0]*91\n",
    "Vt1 = [0]*91\n",
    "phi_list = [0]*91\n",
    "for t in range(10000):\n",
    "    for i in range(91):\n",
    "        v1 = reward1[i]\n",
    "        v2 = reward2[i]\n",
    "        for j in range(91):\n",
    "            v1 = v1 + P1[i,j]*Vt[j]\n",
    "            v2 = v2 + P2[i,j]*Vt[j]\n",
    "        Vt1[i]=min(v1,v2)\n",
    "        phi_list[i]=Vt1[i]-Vt[i]\n",
    "    Vt=copy.deepcopy(Vt1)\n",
    "    if(max(phi_list)-min(phi_list)<0.001):\n",
    "#         print(\"iteration times:\",t,\"\\nmax(V_t+1 - Vt)-min(V_t+1 - Vt):\",max(phi_list)-min(phi_list))\n",
    "        print(phi_list)\n",
    "        break"
   ]
  },
  {
   "cell_type": "code",
   "execution_count": 138,
   "metadata": {},
   "outputs": [
    {
     "name": "stdout",
     "output_type": "stream",
     "text": [
      "alpha: [1, 1, 1, 1, 1, 1, 1, 1, 1, 1, 1, 1, 1, 2, 2, 2, 2, 2, 2, 2, 2, 2, 2, 2, 2, 2, 2, 2, 2, 2, 2, 2, 2, 2, 2, 2, 2, 2, 2, 2, 2, 2, 2, 2, 2, 2, 2, 2, 2, 2, 2, 2, 2, 2, 2, 2, 2, 2, 2, 2, 2, 2, 2, 2, 2, 2, 2, 2, 2, 2, 2, 2, 2, 2, 2, 2, 2, 2, 2, 2, 2, 2, 2, 2, 2, 2, 2, 2, 2, 2, 2]\n"
     ]
    }
   ],
   "source": [
    "# find the policy\n",
    "alpha = [0]*91\n",
    "for i in range(len(Vt1)):\n",
    "    v1 = reward1[i]\n",
    "    v2 = reward2[i]\n",
    "    for j in range(91):\n",
    "        v1 = v1 + P1[i,j]*Vt[j]\n",
    "        v2 = v2 + P2[i,j]*Vt[j]\n",
    "#     print(v1,v2)\n",
    "    alpha[i]=np.argmax([-v1,-v2])+1\n",
    "print(\"alpha:\",alpha)"
   ]
  },
  {
   "cell_type": "code",
   "execution_count": 58,
   "metadata": {},
   "outputs": [
    {
     "name": "stdout",
     "output_type": "stream",
     "text": [
      "0\n"
     ]
    }
   ],
   "source": [
    "print(np.argmax([2,1]))"
   ]
  },
  {
   "cell_type": "code",
   "execution_count": 229,
   "metadata": {},
   "outputs": [
    {
     "name": "stdout",
     "output_type": "stream",
     "text": [
      "[0.5, 0.5, 0.5, 0.5, 0.5, 0.5, 0.5, 0.5, 0.5, 0.5, 0.5, 0.5, 0.5, 0.5, 0.5, 0.5, 0.5, 0.5, 0.5, 0.5, 0.5, 0.5, 0.5, 0.5, 0.51, 0.5249999999999999, 0.54, 0.5549999999999999, 0.5700000000000001, 0.585, 0.6000000000000001, 0.615, 0.6300000000000001, 0.645, 0.6600000000000001, 0.675, 0.69, 0.705, 0.72, 0.735, 0.75, 0.765, 0.78, 0.795, 0.81, 0.8250000000000001, 0.8400000000000001, 0.8550000000000001, 0.8699999999999999, 0.885, 0.8999999999999999, 0.915, 0.9299999999999999, 0.9450000000000001, 0.96, 0.9750000000000001, 0.99, 1.0050000000000001, 1.02, 1.035, 1.0499999999999998, 1.065, 1.08, 1.095, 1.1099999999999999, 1.125, 1.1400000000000001, 1.155, 1.17, 1.185, 1.2000000000000002, 1.2149999999999999, 1.23, 1.2449999999999999, 1.26, 1.275, 1.29, 1.305, 1.32, 1.335, 1.35, 1.365, 1.3800000000000001, 1.395, 1.41, 1.4249999999999998, 1.44, 1.455, 1.47, 1.4849999999999999, 1.5]\n"
     ]
    }
   ],
   "source": [
    "V = [0]*91\n",
    "newV = [0]*91\n",
    "alpha=[]\n",
    "for i in range(91):\n",
    "    v1 = reward1[i]\n",
    "    v2 = reward2[i]\n",
    "    for j in range(91):\n",
    "        v1 = v1 + P1[i,j]*V[j]\n",
    "        v2 = v2 + P2[i,j]*V[j]\n",
    "#     print(v1,v2,max(v1,v2))\n",
    "    V[i] = max(v1,v2)  \n",
    "print(V)  \n"
   ]
  },
  {
   "cell_type": "code",
   "execution_count": null,
   "metadata": {},
   "outputs": [],
   "source": []
  },
  {
   "cell_type": "code",
   "execution_count": null,
   "metadata": {},
   "outputs": [],
   "source": []
  },
  {
   "cell_type": "markdown",
   "metadata": {},
   "source": [
    "### Example"
   ]
  },
  {
   "cell_type": "code",
   "execution_count": 163,
   "metadata": {},
   "outputs": [
    {
     "name": "stdout",
     "output_type": "stream",
     "text": [
      "<class 'numpy.ndarray'>\n",
      "[1, 0, 0]\n"
     ]
    }
   ],
   "source": [
    "# teacher's example\n",
    "pi0_tuple = [1,0,0]\n",
    "pi1_tuple = [0,0,0]\n",
    "pi0 = list(pi0_tuple)\n",
    "pi1 = list(pi1_tuple)\n",
    "\n",
    "P = [0,0,1/2,  1,0,1/2,  0,1,0]\n",
    "P1 = np.zeros((3+1,3+1))\n",
    "P1[0,]=-1\n",
    "T = 10000\n",
    "for i in range(1,3+1):\n",
    "    P1[i,0]=-1\n",
    "\n",
    "    \n",
    "P1[1,1]=P1[2,1]=P1[2,2]=P1[1,3]=P1[3,3]=0\n",
    "P1[3,1]=P1[3,2]=1/2\n",
    "P1[1,2]=P1[2,3]=1\n",
    "print(type(P1))\n",
    "print(pi0)"
   ]
  },
  {
   "cell_type": "code",
   "execution_count": 164,
   "metadata": {},
   "outputs": [
    {
     "name": "stdout",
     "output_type": "stream",
     "text": [
      "[0.2, 0.4, 0.4]\n"
     ]
    }
   ],
   "source": [
    "for t in range(T):\n",
    "    for i in range(len(pi1)):\n",
    "        sum = 0\n",
    "        for j in range(len(pi0)):\n",
    "            sum = sum+ P1[j+1,i+1]*pi0[j]\n",
    "        pi1[i] = sum\n",
    "#         pi1[i] = P[0+3*i]*pi0[1-1] + P[1+3*i]*pi0[2-1] +P[2+3*i]*pi0[3-1]\n",
    "#     pi1=((1/2)*pi0[3-1] , pi0[1-1]+(1/2)*pi0[3-1] , pi0[2-1])\n",
    "    pi0 = copy.deepcopy(pi1)\n",
    "print(pi1)"
   ]
  },
  {
   "cell_type": "code",
   "execution_count": 165,
   "metadata": {},
   "outputs": [
    {
     "name": "stdout",
     "output_type": "stream",
     "text": [
      "[-1, 2006, 3997, 3997]\n"
     ]
    }
   ],
   "source": [
    "state=1\n",
    "visits=[-1,0,0,0]\n",
    "for i in range(T):\n",
    "    visits[state] = visits[state]+1\n",
    "    if(state==3):\n",
    "        state = random.randint(1,2)\n",
    "#         print(\"state=3\")\n",
    "    else:\n",
    "        state = state+1\n",
    "print(visits)"
   ]
  },
  {
   "cell_type": "markdown",
   "metadata": {},
   "source": [
    "### Possion Equation"
   ]
  },
  {
   "cell_type": "code",
   "execution_count": 166,
   "metadata": {},
   "outputs": [
    {
     "name": "stdout",
     "output_type": "stream",
     "text": [
      "[1.2 1.4 1.2]\n"
     ]
    }
   ],
   "source": [
    "# Possion Equation\n",
    "A = [[-1,0,1],[1,-1,1],[-0.5,1,1]]\n",
    "r = [0,1,2]\n",
    "\n",
    "solution = np.linalg.solve(A,r)\n",
    "print(solution)"
   ]
  },
  {
   "cell_type": "code",
   "execution_count": 167,
   "metadata": {},
   "outputs": [
    {
     "name": "stdout",
     "output_type": "stream",
     "text": [
      "<class 'list'>\n"
     ]
    },
    {
     "data": {
      "text/plain": [
       "[[-1, 0, 1], [1, -1, 1], [-0.5, 1, 1]]"
      ]
     },
     "execution_count": 167,
     "metadata": {},
     "output_type": "execute_result"
    }
   ],
   "source": [
    "print(type(A))\n",
    "A"
   ]
  },
  {
   "cell_type": "code",
   "execution_count": 168,
   "metadata": {},
   "outputs": [
    {
     "name": "stdout",
     "output_type": "stream",
     "text": [
      "<class 'list'>\n",
      "[[-1.0, 0.0, 1.0], [1.0, -1.0, 1.0], [-0.5, 1.0, 1.0]]\n"
     ]
    }
   ],
   "source": [
    "state = 3\n",
    "A = np.zeros((state,state+1))\n",
    "for i in range(state): # 3 rows, s states in total \n",
    "    A[i,i] = 1 # the row state be 1 in initial\n",
    "    A[i,state] = 1 # φ=1\n",
    "    for j in range(state):\n",
    "        A[i,j] = A[i,j] - P1[i+1,j+1]\n",
    "#         print(i+1,j+1,P1[i+1,j+1],A[i,j])\n",
    "\n",
    "for i in range(state):# make V(1) = 0\n",
    "    A[i,0]=0\n",
    "# print(type(A))\n",
    "# print(A)\n",
    "equation = []\n",
    "for i in range(state):\n",
    "    row = []\n",
    "    for j in range(1,state+1):\n",
    "        row.append(A[i,j])\n",
    "    equation.append(row)\n",
    "print(type(equation))\n",
    "print(equation)"
   ]
  },
  {
   "cell_type": "code",
   "execution_count": 169,
   "metadata": {},
   "outputs": [
    {
     "name": "stdout",
     "output_type": "stream",
     "text": [
      "[1.2 1.4 1.2]\n"
     ]
    }
   ],
   "source": [
    "solution = np.linalg.solve(equation,r)\n",
    "print(solution)"
   ]
  },
  {
   "cell_type": "code",
   "execution_count": 172,
   "metadata": {},
   "outputs": [
    {
     "name": "stdout",
     "output_type": "stream",
     "text": [
      "[0, 1.2, 1.4]\n"
     ]
    }
   ],
   "source": [
    "V=[0]\n",
    "for i in range(2):\n",
    "    V.append(solution[i])\n",
    "print(V)"
   ]
  },
  {
   "cell_type": "markdown",
   "metadata": {},
   "source": [
    "### Backward iteration"
   ]
  },
  {
   "cell_type": "code",
   "execution_count": 202,
   "metadata": {},
   "outputs": [
    {
     "name": "stdout",
     "output_type": "stream",
     "text": [
      "[[0.  1.  0. ]\n",
      " [0.  0.  1. ]\n",
      " [0.5 0.5 0. ]] <class 'numpy.matrix'>\n",
      "[0, 1, 2]\n",
      "\n",
      "[[0 1 0]\n",
      " [0 0 1]\n",
      " [1 0 0]] <class 'numpy.matrix'>\n",
      "[0, 1, 3]\n",
      "[0, 0, 0] <class 'list'>\n"
     ]
    }
   ],
   "source": [
    "V = [0,0,0]\n",
    "# V = np.mat(V)\n",
    "r1 = [0,1,2]\n",
    "r2 = [0,1,3]\n",
    "# alpha = [1,1]\n",
    "state_number = len(r1)\n",
    "\n",
    "# print(type(a))\n",
    "# print(a)\n",
    "# P1 = np.matrix([[0.5, 0.5], [0, 1]])\n",
    "# P2 = np.matrix([[0.5,0.5]]*2)\n",
    "P1 = np.matrix([[0,1,0],[0,0,1],[0.5,0.5,0]])\n",
    "P2 = np.matrix([[0,1,0],[0,0,1],[1,0,0]])\n",
    "\n",
    "print(P1,type(P1))\n",
    "print(r1)\n",
    "print()\n",
    "print(P2,type(P2))\n",
    "print(r2)\n",
    "print(V,type(V))"
   ]
  },
  {
   "cell_type": "code",
   "execution_count": 203,
   "metadata": {},
   "outputs": [
    {
     "name": "stdout",
     "output_type": "stream",
     "text": [
      "0.0 0 0.0\n",
      "1.0 1.0 1.0\n",
      "2.5 3.0 3.0\n",
      "[0.0, 1.0, 3.0]\n",
      "1\n",
      "1\n",
      "2\n",
      "[1, 1, 2]\n"
     ]
    }
   ],
   "source": [
    "alpha=[]\n",
    "for i in range(3):\n",
    "    v1 = r1[i]\n",
    "    v2 = r2[i]\n",
    "    for j in range(3):\n",
    "        v1 = v1 + P1[i,j]*V[j]\n",
    "        v2 = v2 + P2[i,j]*V[j]\n",
    "    print(v1,v2,max(v1,v2))\n",
    "    V[i] = max(v1,v2)  \n",
    "print(V)  \n",
    "\n",
    "for i in range(3):\n",
    "    v1 = r1[i]\n",
    "    v2 = r2[i]\n",
    "    for j in range(3):\n",
    "        v1 = v1 + P1[i,j]*V[j]\n",
    "        v2 = v2 + P2[i,j]*V[j]\n",
    "    a=np.argmax([v1,v2])+1\n",
    "    print(a)\n",
    "    alpha.append(a) \n",
    "print(alpha)"
   ]
  },
  {
   "cell_type": "code",
   "execution_count": 204,
   "metadata": {},
   "outputs": [
    {
     "name": "stdout",
     "output_type": "stream",
     "text": [
      "[0.0, 1.0, 3.0]\n",
      "[-2.0, 1.0, 0.0]\n"
     ]
    }
   ],
   "source": [
    "print(V)\n",
    "phi = []\n",
    "for i in range(3):\n",
    "    if alpha[i]==1:\n",
    "        phie = r1[i]\n",
    "        for j in range(3):\n",
    "            phie = phie + P1[i,j]*V[j] \n",
    "        phie = phie -V[j]\n",
    "        phi.append(phie)\n",
    "    if alpha[i]==2:\n",
    "        phie = r2[i]\n",
    "        for j in range(3):\n",
    "            phie = phie + P2[i,j]*V[j]\n",
    "        phie = phie -V[j]\n",
    "        phi.append(phie)\n",
    "print(phi)"
   ]
  }
 ],
 "metadata": {
  "kernelspec": {
   "display_name": "Python 3",
   "language": "python",
   "name": "python3"
  },
  "language_info": {
   "codemirror_mode": {
    "name": "ipython",
    "version": 3
   },
   "file_extension": ".py",
   "mimetype": "text/x-python",
   "name": "python",
   "nbconvert_exporter": "python",
   "pygments_lexer": "ipython3",
   "version": "3.8.5"
  }
 },
 "nbformat": 4,
 "nbformat_minor": 4
}
