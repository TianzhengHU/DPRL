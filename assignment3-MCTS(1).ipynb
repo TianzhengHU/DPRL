{
 "cells": [
  {
   "cell_type": "code",
   "execution_count": 1,
   "id": "95c62637",
   "metadata": {},
   "outputs": [],
   "source": [
    "import random\n",
    "import numpy as np\n",
    "from copy import deepcopy"
   ]
  },
  {
   "cell_type": "code",
   "execution_count": 2,
   "id": "5316f227",
   "metadata": {},
   "outputs": [],
   "source": [
    "board = ['.'for i in range(9)]\n",
    "board[4] = 'X'"
   ]
  },
  {
   "cell_type": "code",
   "execution_count": 3,
   "id": "bff43102",
   "metadata": {},
   "outputs": [],
   "source": [
    "def Board_show(board):\n",
    "    for i in range(3):\n",
    "        print(board[i*3:i*3+3])\n",
    "    print('')"
   ]
  },
  {
   "cell_type": "code",
   "execution_count": 4,
   "id": "231bac16",
   "metadata": {},
   "outputs": [],
   "source": [
    "class Node:\n",
    "    def __init__(self,board,parent,player):\n",
    "        self.children = list()\n",
    "        self.parent = parent\n",
    "        self.R = 0\n",
    "        self.N = 0\n",
    "        self.state = board\n",
    "        self.move  = list()\n",
    "        self.player = player # True for opponent i.e. root.player = True\n",
    "        \n",
    "    def is_terminal(self):\n",
    "        state = self.state\n",
    "        if '.' not in state:\n",
    "            return True\n",
    "        for i in range(3):\n",
    "            if state[0+3*i] == state[1+3*i] and state[0+3*i] == state[2+3*i] and state[0+3*i]!='.':\n",
    "                return True\n",
    "            if state[0+i] == state[3+i] and state[0+i] == state[6+i] and state[0+i]!='.':\n",
    "                return True\n",
    "        if state[0] == state[4] and state[0] == state[8] and state[0]!='.':\n",
    "            return True\n",
    "        if state[2] == state[4] and state[2] == state[6] and state[2]!='.':\n",
    "            return True\n",
    "        return False\n",
    "    \n",
    "    def get_reward(self):\n",
    "        if not self.is_terminal(): \n",
    "            raise Exception(\"Sorry, game is not over (get reward)\")\n",
    "        state = self.state\n",
    "        for i in range(3):\n",
    "            if state[0+3*i] == state[1+3*i] and state[0+3*i] == state[2+3*i] and state[0+3*i]=='O':\n",
    "                return 1\n",
    "            if state[0+i] == state[3+i] and state[0+i] == state[6+i] and state[0+i]=='O':\n",
    "                return 1\n",
    "        if state[0] == state[4] and state[0] == state[8] and state[0]=='O':\n",
    "            return 1\n",
    "        if state[2] == state[4] and state[2] == state[6] and state[2]=='O':\n",
    "            return 1\n",
    "        return 0\n",
    "    \n",
    "    def get_move(self):\n",
    "        state = self.state\n",
    "        return [i for i,x in enumerate(state) if x=='.']\n",
    "    \n",
    "    def get_uct(self):\n",
    "        c = 2\n",
    "        if self.N == 0 or self.parent.N == 0:\n",
    "            return 1e10\n",
    "        else:\n",
    "            return self.R/self.N + np.sqrt(c)*np.sqrt(np.log(self.parent.N)/self.N)\n",
    "    \n",
    "    def new_children(self):\n",
    "        if self.is_terminal():\n",
    "            raise Exception('Sorry, game is over (new children)')\n",
    "        self.move = self.get_move()\n",
    "        state = self.state\n",
    "        if self.player:\n",
    "            for action in self.move:\n",
    "                new_state = deepcopy(state)\n",
    "                new_state[action] = 'O'\n",
    "                parent = self\n",
    "                self.children.append(Node(new_state,parent,False))\n",
    "        else:\n",
    "            for action in self.move:\n",
    "                new_state = deepcopy(state)\n",
    "                new_state[action] = 'X'\n",
    "                parent = self\n",
    "                self.children.append(Node(new_state,parent,True))\n",
    "    \n",
    "    def update(self,reward):\n",
    "        self.N = self.N+1\n",
    "        self.R = self.R+reward\n",
    "        \n",
    "    def get_Qvalue(self):\n",
    "        node = self\n",
    "        Q = 0\n",
    "        if node.is_terminal():\n",
    "            return node.R/node.N\n",
    "        else:\n",
    "            Qlist = []\n",
    "            if node.children:\n",
    "                for child in node.children:\n",
    "                    if child.N !=0:\n",
    "                        Q = Q + child.N/node.N*child.get_Qvalue()\n",
    "#                     Qlist.append(child.get_Qvalue())\n",
    "#                 child_ids = Qlist.index(max(Qlist))\n",
    "#                 child = node.children[child_ids]\n",
    "#                 return child.N/node.N*max(Qlist)\n",
    "                return Q\n",
    "#             else:\n",
    "#                 Board_show(node.state)\n",
    "#                 raise Exception('Tree is not fully built')\n",
    "                \n",
    "        "
   ]
  },
  {
   "cell_type": "code",
   "execution_count": 5,
   "id": "2e204d8a",
   "metadata": {},
   "outputs": [],
   "source": [
    "class tttTree:\n",
    "    def __init__(self,root):\n",
    "        self.root = root\n",
    "        \n",
    "    def rollout(self,node):\n",
    "        node = node\n",
    "        if node.is_terminal():\n",
    "            return node.get_reward(),node\n",
    "        while not node.is_terminal():\n",
    "            if node.children == []:\n",
    "                node.new_children()\n",
    "            node = np.random.choice(node.children)\n",
    "            #Board_show(node.state)\n",
    "            \n",
    "        return node.get_reward(),node #leaf node\n",
    "    \n",
    "    def backward(self,reward,leaf):\n",
    "        if not leaf.is_terminal():\n",
    "            raise Exception('Sorry, game is not over (backward)')\n",
    "        while leaf:\n",
    "            leaf.update(reward)\n",
    "            leaf = leaf.parent\n",
    "    \n",
    "    def expansion(self,node):\n",
    "        if node.is_terminal():\n",
    "            return node\n",
    "        if node.children == []:\n",
    "            node.new_children()\n",
    "            return np.random.choice(node.children)\n",
    "        else:\n",
    "            raise Exception('sorry, this node is not leaf node')\n",
    "            \n",
    "    def choose(self):\n",
    "        node = self.root\n",
    "        #maybe not choose选到Leaf为止，可能root也需要\n",
    "#         if node.children == []:\n",
    "#             node.new_children()\n",
    "        while node.children:\n",
    "#             if True:\n",
    "            if node.player:\n",
    "                leaf = node.children[0]\n",
    "                uct = leaf.get_uct()\n",
    "#                 uct = 0\n",
    "                for child in node.children:\n",
    "                    if uct<child.get_uct():\n",
    "                        leaf = child\n",
    "                        uct = child.get_uct()\n",
    "                node = leaf\n",
    "                \n",
    "            else:\n",
    "                node = np.random.choice(node.children)\n",
    "        return node\n",
    "\n",
    "    def game(self):\n",
    "        node = self.choose()\n",
    "        node = self.expansion(node)\n",
    "        reward,leaf = self.rollout(node)\n",
    "        self.backward(reward,leaf)\n",
    "        \n",
    "        "
   ]
  },
  {
   "cell_type": "code",
   "execution_count": 6,
   "id": "0a24f8af",
   "metadata": {},
   "outputs": [],
   "source": [
    "root = Node(board,None,True)\n",
    "tree = tttTree(root)\n",
    "q_list = [0]\n",
    "iteration = [0]"
   ]
  },
  {
   "cell_type": "code",
   "execution_count": 7,
   "id": "8bf10c28",
   "metadata": {},
   "outputs": [],
   "source": [
    "for _ in range(5000):\n",
    "    tree.game()\n",
    "q_list.append(tree.root.get_Qvalue())\n",
    "iteration.append(5000)"
   ]
  },
  {
   "cell_type": "code",
   "execution_count": 8,
   "id": "7073e29d",
   "metadata": {},
   "outputs": [],
   "source": [
    "old_q = tree.root.get_Qvalue()\n",
    "tree.game()\n",
    "# print(tree.root.get_Qvalue()-old_q)\n",
    "k = 2\n",
    "while np.abs(tree.root.get_Qvalue()-old_q) > 0.000001:\n",
    "    \n",
    "    for i in range(4999):\n",
    "        tree.game()\n",
    "    old_q = tree.root.get_Qvalue()\n",
    "    tree.game()\n",
    "    q_list.append(tree.root.get_Qvalue())\n",
    "    iteration.append(5000*k)\n",
    "    k = k+1\n",
    "    #print(tree.root.get_Qvalue()-old_q)"
   ]
  },
  {
   "cell_type": "code",
   "execution_count": 9,
   "id": "2dccd5b0",
   "metadata": {},
   "outputs": [
    {
     "data": {
      "text/plain": [
       "200001"
      ]
     },
     "execution_count": 9,
     "metadata": {},
     "output_type": "execute_result"
    }
   ],
   "source": [
    "tree.root.N"
   ]
  },
  {
   "cell_type": "code",
   "execution_count": 10,
   "id": "e8a23848",
   "metadata": {},
   "outputs": [
    {
     "data": {
      "image/png": "[encoded data removed]",
      "text/plain": [
       "<Figure size 640x480 with 1 Axes>"
      ]
     },
     "metadata": {},
     "output_type": "display_data"
    }
   ],
   "source": [
    "import matplotlib.pyplot as plt\n",
    "plt.plot(iteration,q_list)\n",
    "plt.xlabel('Game times')\n",
    "plt.ylabel('Q value of root')\n",
    "plt.savefig('visual Q.jpg')"
   ]
  },
  {
   "cell_type": "markdown",
   "id": "ddebd017",
   "metadata": {},
   "source": [
    "### check balance"
   ]
  },
  {
   "cell_type": "code",
   "execution_count": 21,
   "id": "c637af91",
   "metadata": {},
   "outputs": [
    {
     "name": "stdout",
     "output_type": "stream",
     "text": [
      "visits: 198397 ,wins: 160108 ucb: 0.8181008256305211\n",
      "['O', '.', '.']\n",
      "['.', 'X', '.']\n",
      "['.', '.', '.']\n",
      "\n",
      "visits: 263 ,wins: 54 ucb: 0.5099900336542442\n",
      "['.', 'O', '.']\n",
      "['.', 'X', '.']\n",
      "['.', '.', '.']\n",
      "\n",
      "visits: 197 ,wins: 33 ucb: 0.5195348061453121\n",
      "['.', '.', 'O']\n",
      "['.', 'X', '.']\n",
      "['.', '.', '.']\n",
      "\n",
      "visits: 226 ,wins: 42 ucb: 0.5145022150558936\n",
      "['.', '.', '.']\n",
      "['O', 'X', '.']\n",
      "['.', '.', '.']\n",
      "\n",
      "visits: 147 ,wins: 18 ucb: 0.5299647260513881\n",
      "['.', '.', '.']\n",
      "['.', 'X', 'O']\n",
      "['.', '.', '.']\n",
      "\n",
      "visits: 363 ,wins: 88 ucb: 0.5017524447166842\n",
      "['.', '.', '.']\n",
      "['.', 'X', '.']\n",
      "['O', '.', '.']\n",
      "\n",
      "visits: 220 ,wins: 40 ucb: 0.5149312890835352\n",
      "['.', '.', '.']\n",
      "['.', 'X', '.']\n",
      "['.', 'O', '.']\n",
      "\n",
      "visits: 188 ,wins: 30 ucb: 0.5199241452681624\n",
      "['.', '.', '.']\n",
      "['.', 'X', '.']\n",
      "['.', '.', 'O']\n",
      "\n"
     ]
    }
   ],
   "source": [
    "for child in tree.root.children:\n",
    "    print(\"visits:\",child.N,\",wins:\",child.R,\"ucb:\",child.get_uct())\n",
    "    Board_show(child.state)"
   ]
  },
  {
   "cell_type": "markdown",
   "id": "852e6fa3",
   "metadata": {},
   "source": [
    "## visual most successful node (biggest R)"
   ]
  },
  {
   "cell_type": "code",
   "execution_count": 12,
   "id": "eb2f6fe6",
   "metadata": {},
   "outputs": [
    {
     "name": "stdout",
     "output_type": "stream",
     "text": [
      "N:  200001 R:  160413\n",
      "['.', '.', '.']\n",
      "['.', 'X', '.']\n",
      "['.', '.', '.']\n",
      "\n",
      "N:  198397 R:  160108 UCT:  0.8181008256305211\n",
      "['O', '.', '.']\n",
      "['.', 'X', '.']\n",
      "['.', '.', '.']\n",
      "\n",
      "N:  28324 R:  25894 UCT:  0.9435553005358165\n",
      "['O', '.', '.']\n",
      "['.', 'X', '.']\n",
      "['.', 'X', '.']\n",
      "\n",
      "N:  27936 R:  25717 UCT:  0.9476594928392881\n",
      "['O', 'O', '.']\n",
      "['.', 'X', '.']\n",
      "['.', 'X', '.']\n",
      "\n",
      "N:  5652 R:  5577 UCT:  1.0469189988720446\n",
      "['O', 'O', '.']\n",
      "['.', 'X', '.']\n",
      "['.', 'X', 'X']\n",
      "\n",
      "N:  3081 R:  3081 UCT:  1.0748893579379772\n",
      "['O', 'O', 'O']\n",
      "['.', 'X', '.']\n",
      "['.', 'X', 'X']\n",
      "\n"
     ]
    }
   ],
   "source": [
    "nodes = []\n",
    "node = tree.root\n",
    "print('N: ',node.N,'R: ',node.R)\n",
    "Board_show(node.state)\n",
    "nodes.append(node)\n",
    "while node.children:\n",
    "    c = node.children[0]\n",
    "    for child in node.children:\n",
    "        if child.R > c.R:\n",
    "            c = child\n",
    "    node = c\n",
    "    print('N: ',node.N,'R: ',node.R,'UCT: ',node.get_uct())\n",
    "    Board_show(node.state)\n",
    "    nodes.append(node)"
   ]
  },
  {
   "cell_type": "markdown",
   "id": "6cbc2924",
   "metadata": {},
   "source": [
    "## visual a game by 'choose'(choose node by uct)"
   ]
  },
  {
   "cell_type": "code",
   "execution_count": 13,
   "id": "131af049",
   "metadata": {},
   "outputs": [],
   "source": [
    "node = tree.choose()\n",
    "nodes = [node]\n",
    "while node.parent:\n",
    "#     Board_show(node.state)\n",
    "#     print(node.N,node.R)\n",
    "    node = node.parent\n",
    "    nodes.append(node)"
   ]
  },
  {
   "cell_type": "code",
   "execution_count": 20,
   "id": "1b4349ee",
   "metadata": {},
   "outputs": [
    {
     "name": "stdout",
     "output_type": "stream",
     "text": [
      "==================================================================\n",
      "N:  200001 R:  160413 Q:  0.8020609896950515\n",
      "['.', '.', '.']\n",
      "['.', 'X', '.']\n",
      "['.', '.', '.']\n",
      "\n",
      "==================================================================\n",
      "N:  198397 R:  160108 Q:  0.8070081704864489 UCB:  0.8181008256305211\n",
      "['O', '.', '.']\n",
      "['.', 'X', '.']\n",
      "['.', '.', '.']\n",
      "\n",
      "==================================================================\n",
      "N:  28279 R:  24008 Q:  0.8489691997595391 UCB:  0.8783408088640889\n",
      "['O', '.', '.']\n",
      "['.', 'X', '.']\n",
      "['X', '.', '.']\n",
      "\n",
      "==================================================================\n",
      "N:  27976 R:  23903 Q:  0.854410923648842 UCB:  0.8814805005395968\n",
      "['O', '.', 'O']\n",
      "['.', 'X', '.']\n",
      "['X', '.', '.']\n",
      "\n",
      "==================================================================\n",
      "N:  5612 R:  5531 Q:  0.9855666429080542 UCB:  1.0459736205710013\n",
      "['O', '.', 'O']\n",
      "['.', 'X', '.']\n",
      "['X', 'X', '.']\n",
      "\n",
      "==================================================================\n",
      "N:  5430 R:  5430 Q:  1.0 UCB:  1.0563881001814288\n",
      "['O', 'O', 'O']\n",
      "['.', 'X', '.']\n",
      "['X', 'X', '.']\n",
      "\n",
      "==================================================================\n"
     ]
    }
   ],
   "source": [
    "print(\"==================================================================\")\n",
    "for i in range(len(nodes)-1,-1,-1):\n",
    "    node = nodes[i]\n",
    "    if i == 5:\n",
    "        print('N: ',node.N,'R: ',node.R ,'Q: ',node.get_Qvalue())\n",
    "    else:\n",
    "        print('N: ',node.N,'R: ',node.R,'Q: ',node.get_Qvalue(),'UCB: ',node.get_uct())\n",
    "    Board_show(node.state)\n",
    "    print(\"==================================================================\")"
   ]
  },
  {
   "cell_type": "code",
   "execution_count": null,
   "id": "046ed665",
   "metadata": {},
   "outputs": [],
   "source": []
  }
 ],
 "metadata": {
  "kernelspec": {
   "display_name": "Python 3 (ipykernel)",
   "language": "python",
   "name": "python3"
  },
  "language_info": {
   "codemirror_mode": {
    "name": "ipython",
    "version": 3
   },
   "file_extension": ".py",
   "mimetype": "text/x-python",
   "name": "python",
   "nbconvert_exporter": "python",
   "pygments_lexer": "ipython3",
   "version": "3.9.13"
  }
 },
 "nbformat": 4,
 "nbformat_minor": 5
}
